{
  "nbformat": 4,
  "nbformat_minor": 0,
  "metadata": {
    "colab": {
      "provenance": []
    },
    "kernelspec": {
      "name": "python3",
      "display_name": "Python 3"
    },
    "language_info": {
      "name": "python"
    }
  },
  "cells": [
    {
      "cell_type": "code",
      "source": [
        "import requests,re\n",
        "\n",
        "url= \"https://raw.githubusercontent.com/elastic/examples/refs/heads/master/Common%20Data%20Formats/apache_logs/apache_logs\"\n",
        "regular = r\"\\d{1,3}\\.\\d{1,3}\\.\\d{1,3}\\.\\d{1,3}\"\n",
        "\n",
        "ipsAlmacenadas = requests.get(url).text\n",
        "ipsEncontradas = re.findall(regular,ipsAlmacenadas)\n",
        "#re encuentra todo dentro de la expresión\n",
        "#sólo es encontrar su estructura\n",
        "print(ipsEncontradas)"
      ],
      "metadata": {
        "id": "vDAsccaxjoTb"
      },
      "execution_count": null,
      "outputs": []
    },
    {
      "cell_type": "code",
      "source": [
        "import requests,json,re\n",
        "\n",
        "#Función par recibir la expresión regular + data, y finalmente entregará los resultados de la búsqueda\n",
        "def extraerExpresiónRegular(reg,source):\n",
        "    #Asignación de esos parámetros para su uso interno\n",
        "    expresion = reg\n",
        "    data = source\n",
        "    #usamos la librería re para buscar en los datos\n",
        "    resultado = re.findall(expresion,data)\n",
        "    #Si retornan datos, serán entregados y si no, mostrará un mensaje.\n",
        "    if resultado:\n",
        "        return resultado\n",
        "    else:\n",
        "        return \"No result\"\n",
        "# Url donde los logs se encuentran\n",
        "url = \"https://raw.githubusercontent.com/elastic/examples/refs/heads/master/Common%20Data%20Formats/apache_logs/apache_logs\"\n",
        "#Esta es la expresión regular. Nota: recuerden poner r antes de la expresión.\n",
        "regexString = r\"\\d{1,3}\\.\\d{1,3}\\.\\d{1,3}\\.\\d{1,3}\"\n",
        "regexDate = r\"\\d{4}\\:\\d{2}\\:\\d{2}\\:\\d{2}\"\n",
        "#Descargar el archivo\n",
        "respuesta = requests.get(url).text\n",
        "#Ejecutamos el llamado a nuestra función.\n",
        "resultado = extraerExpresiónRegular(regexString,respuesta)\n",
        "resultadof = extraerExpresiónRegular(regexDate,respuesta)\n",
        "#Imprimir de forma agradable usando la librería JSON.\n",
        "json.dumps(resultado,indent=4)\n",
        "json.dumps(resultadof,indent=8)\n",
        "for i in range(len(resultado)):\n",
        "    print(\"IP: \"+resultado[i]+\" Fecha: \"+resultadof[i])\n"
      ],
      "metadata": {
        "id": "dvPI6sZ_Xm5I"
      },
      "execution_count": null,
      "outputs": []
    },
    {
      "cell_type": "code",
      "source": [
        "import requests,re,json\n",
        "def extractFromRegularExpresion(regex,data):\n",
        "    if data:\n",
        "      return re.findall(regex,data)\n",
        "    return None\n",
        "\n",
        "data=requests.get(\"https://raw.githubusercontent.com/elastic/examples/refs/heads/master/Common%20Data%20Formats/apache_logs/apache_logs\").text\n",
        "regex=r\"(\\d{1,3}\\.\\d{1,3}\\.\\d{1,3}\\.\\d{1,3})\\s-\\s-\\s\\[(\\d{2}\\/\\b[a-zA-Z]{3}\\b\\/\\d{4})\\:(\\d{2}\\:\\d{2})\"\n",
        "#\\s = space   \\b = letra o palabra\n",
        "resultado = extractFromRegularExpresion(regex,data)\n",
        "for i in range(len(resultado)):\n",
        "  print(f\"La ip: {resultado[i][0]}, la fecha es: {resultado[i][1]} y la hora es: {resultado[i][2]}\")\n",
        "#f= concatenar variables y texto"
      ],
      "metadata": {
        "id": "ELgrG4P_doem"
      },
      "execution_count": null,
      "outputs": []
    },
    {
      "cell_type": "code",
      "source": [
        "import requests,re,json\n",
        "ipsAlmacenadas = []\n",
        "\n",
        "def extractFromRegularExpresion(regex,data):\n",
        "    if data:\n",
        "      return re.findall(regex,data)\n",
        "    return None\n",
        "\n",
        "data=requests.get(\"https://raw.githubusercontent.com/elastic/examples/refs/heads/master/Common%20Data%20Formats/apache_logs/apache_logs\").text\n",
        "regex=r\"(\\d{1,3}\\.\\d{1,3}\\.\\d{1,3}\\.\\d{1,3})\\s-\\s-\\s\\[(\\d{2}\\/\\b[a-zA-Z]{3}\\b\\/\\d{4})\\:(\\d{2}\\:\\d{2}:\\d{2})\"\n",
        "#\\s = space   \\b = letra o palabra\n",
        "resultado = extractFromRegularExpresion(regex,data)\n",
        "for i in range(len(resultado)):\n",
        "   if resultado[i][0] not in ipsAlmacenadas:\n",
        "      fechas = []\n",
        "      for j in range(len(resultado)):\n",
        "         if resultado[i][0] == resultado[j][0]:\n",
        "            fechas.append(f\"{resultado[j][1]} {resultado[j][2]}\")\n",
        "      ipsAlmacenadas.append({resultado[i][0]: fechas})\n",
        "      #ipsAlmacenadas.append(resultado[i][0])\n",
        "\n",
        "print(json.dumps(ipsAlmacenadas,indent=4))\n",
        "  #print(f\"La ip: {resultado[i][0]}, la fecha es: {resultado[i][1]} y la hora es: {resultado[i][2]}\")\n",
        "#f= concatenar variables y texto\n"
      ],
      "metadata": {
        "id": "sw4xxJRXVmgL"
      },
      "execution_count": null,
      "outputs": []
    }
  ]
}